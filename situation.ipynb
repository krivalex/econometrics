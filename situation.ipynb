{
 "cells": [
  {
   "cell_type": "code",
   "execution_count": 167,
   "metadata": {},
   "outputs": [],
   "source": [
    "# импорты\n",
    "import math"
   ]
  },
  {
   "cell_type": "markdown",
   "metadata": {},
   "source": [
    "# Фунция для расчета всех 16 формул"
   ]
  },
  {
   "cell_type": "code",
   "execution_count": 168,
   "metadata": {},
   "outputs": [],
   "source": [
    "# 1.1 Средний уровень запаса\n",
    "\n",
    "def average_level_zapasa(Zni, Zki):\n",
    "  \"\"\"\n",
    "  Средний уровень запаса\n",
    "  Zni - нижний уровень запаса\n",
    "  Zki - верхний уровень запаса\n",
    "  \"\"\"\n",
    "\n",
    "  Zi = average_level_zapasa = (Zni + Zki) / 2\n",
    "  return Zi\n",
    "  "
   ]
  },
  {
   "cell_type": "code",
   "execution_count": 169,
   "metadata": {},
   "outputs": [],
   "source": [
    "# 1.2 Cреднего уровня запаса за длительный период\n",
    "\n",
    "def calculate_average_stock_for_long_period(Z1, Zn, i, n):\n",
    "    \"\"\"\n",
    "    # Z1 - остаток запаса на первый единичный период учета, единиц\n",
    "    # Zn - остаток запаса на последний единичный период учета, единиц\n",
    "    # i - индекс единичного периода учета\n",
    "    # n - количество единичных периодов учета\n",
    "    # Zi - остаток запаса на i-й единичный период учета, единиц\n",
    "    \"\"\"\n",
    "    sum_Zi = 0\n",
    "    for period in range(n - 1):\n",
    "        Zi = int(input(\n",
    "            f'Введите остаток запаса на {period + 1}-й единичный период учета, единиц: '))\n",
    "        sum_Zi += Zi\n",
    "    return (.5 * Z1 + Zi + .5 * Zn)/n - 1"
   ]
  },
  {
   "cell_type": "code",
   "execution_count": 170,
   "metadata": {},
   "outputs": [],
   "source": [
    "# 1.3 Расчет запасоемкости\n",
    "\n",
    "def calculate_stock_capacity(Zi1, Di):\n",
    "    \"\"\"\n",
    "    i – индекс периода учета,\n",
    "    # Zi1 - остаток запаса на начало (i+1)-го периода учета (или на конец i-го единичного периода учета), единиц;\n",
    "    # # Di - объем отгрузок (потребности, объем продаж или товарооборот) за i-й единичный период учета, единиц.\n",
    "    \"\"\"\n",
    "    return Zi1 / Di"
   ]
  },
  {
   "cell_type": "code",
   "execution_count": 171,
   "metadata": {},
   "outputs": [],
   "source": [
    "# 1.4 Обеспеченность потребности запасом\n",
    "\n",
    "def calculate_stock_supply(Zei, mj):\n",
    "    \"\"\"\n",
    "    # Zei - остаток запаса на конец i-го периода учета, единиц;\n",
    "    # # mj - объем отгрузок (потребности, объем продаж или товарооборот) за i-й единичный период учета, единиц.\n",
    "    \"\"\"\n",
    "    return Zei / mj"
   ]
  },
  {
   "cell_type": "code",
   "execution_count": 172,
   "metadata": {},
   "outputs": [],
   "source": [
    "# 1.5 остаток запаса на конец i-го периода\n",
    "\n",
    "def calculate_stock_balance(Zni, Si, Di):\n",
    "    \"\"\"\n",
    "    # Zni - остаток запаса на начало i-го периода;\n",
    "    # Si – объем пополнения запаса\n",
    "    # Di – объем отгрузок (потребления, объем продаж или товарооборот) запаса в i-м периоде.\n",
    "    \"\"\"\n",
    "    return Zni + Si - Di"
   ]
  },
  {
   "cell_type": "code",
   "execution_count": 173,
   "metadata": {},
   "outputs": [],
   "source": [
    "# 1.6 Расчет доли переходящего запаса\n",
    "\n",
    "def calculate_stock_transition(Zni, Si):\n",
    "    \"\"\"\n",
    "    # Zni - остаток запаса на начало i-го периода;\n",
    "    # Si – объем пополнения запаса\n",
    "    # Di – объем отгрузок (потребления, объем продаж или товарооборот) запаса в i-м периоде.\n",
    "    \"\"\"\n",
    "    return Zni / (Zni + Si)"
   ]
  },
  {
   "cell_type": "code",
   "execution_count": 174,
   "metadata": {},
   "outputs": [],
   "source": [
    "# 1.8 Скорость обращения запаса\n",
    "\n",
    "def calculate_stock_turnover(Di, Zi):\n",
    "    \"\"\"\n",
    "    # Di – объем отгрузок (потребления, объем продаж или товарооборот) запаса в i-м периоде, единиц;\n",
    "    # Zi - средний объем запаса в i-м периоде, единиц.\n",
    "    \"\"\"\n",
    "    return Di / Zi"
   ]
  },
  {
   "cell_type": "code",
   "execution_count": 175,
   "metadata": {},
   "outputs": [],
   "source": [
    "# 1.9 Время оборота\n",
    "\n",
    "def calculate_turnover_time(Zi, mj):\n",
    "    \"\"\"\n",
    "    # Zi - средний объем запаса в i-ом периоде, единиц;\n",
    "    # mj - объем отгрузок (потребность, объем продаж или товарооборот) в j-м единичном периоде учета, единиц/дни.\n",
    "    \"\"\"\n",
    "    return Zi / mj"
   ]
  },
  {
   "cell_type": "code",
   "execution_count": 176,
   "metadata": {},
   "outputs": [],
   "source": [
    "# 1.10 Средние показатели пополнения и отгрузок запаса\n",
    "\n",
    "def calculate_average_indicators(n, Pmi):\n",
    "    \"\"\"\n",
    "    # Pmi – объем пополнения (отгрузок, продаж, товарооборота) запаса в месяце m года i, единиц/месяц\n",
    "    # n - количество месяцев в году\n",
    "    \"\"\"\n",
    "    sum_Pm = 0\n",
    "    for m in range(1, n + 1):\n",
    "        # Pmi = int(input(\n",
    "        #     f'Введите объем пополнения (отгрузок, продаж, товарооборота) запаса в {m}-м месяце {i}-го года, единиц/месяц: '))\n",
    "        sum_Pm += Pmi\n",
    "        return sum_Pm / n"
   ]
  },
  {
   "cell_type": "code",
   "execution_count": 177,
   "metadata": {},
   "outputs": [],
   "source": [
    "# 1.11 Рвсчет вариативного ряда\n",
    "\n",
    "def varition(sigma, var):\n",
    "  \"\"\"\n",
    "    # sigma - среднеквадратическое отклонение;\n",
    "    # var - вариация.\n",
    "  \"\"\"\n",
    "  V = sigma / var\n",
    "  return V\n"
   ]
  },
  {
   "cell_type": "code",
   "execution_count": 178,
   "metadata": {},
   "outputs": [],
   "source": [
    "# 1.12 Отклонение по запасам на месяц\n",
    "def standart_deegrees(n, xi, x):\n",
    "  \"\"\"\n",
    "    эта функция считает отклонение по запасам на месяц\n",
    "    # xi - среднее значение;\n",
    "    # x - значение вариации;\n",
    "    # n - количество месяцев.\n",
    "  \"\"\"\n",
    "  a = 0\n",
    "  for i in range(n):\n",
    "    a += (xi - x) ** 2\n",
    "  sigma = (a / n) ** 0.5\n",
    "  return sigma"
   ]
  },
  {
   "cell_type": "code",
   "execution_count": 179,
   "metadata": {},
   "outputs": [],
   "source": [
    "# 1.13 средняя величина отклонения по запасам на месяц\n",
    "\n",
    "def average_arifmetic_line(n, xi, x):\n",
    "  \"\"\"\n",
    "    эта функция считает среднюю величину отклонения по запасам на месяц\n",
    "    # xi - среднее значение;\n",
    "    # x - значение вариации;\n",
    "    # n - количество месяцев.\n",
    "  \"\"\"\n",
    "  xi = 0\n",
    "  for i in range(n):\n",
    "    xi += i\n",
    "  return xi / n"
   ]
  },
  {
   "cell_type": "code",
   "execution_count": 180,
   "metadata": {},
   "outputs": [],
   "source": [
    "# 1.14 Коэффициент корреляции\n",
    "\n",
    "def coeffieint_correlation(covXY, sigmaX, sigmaY):\n",
    "  \"\"\"# covXY - ковариация.\"\"\"\n",
    "\n",
    "  r = covXY / (sigmaX * sigmaY)\n",
    "  return r"
   ]
  },
  {
   "cell_type": "code",
   "execution_count": 181,
   "metadata": {},
   "outputs": [],
   "source": [
    "# 1.15 Коэффициент ковариации\n",
    "\n",
    "def covarition(n, x, x_mean, y, y_mean):\n",
    "  \"\"\"\n",
    "    # x - значение вариации;\n",
    "    # x_mean - среднее значение;\n",
    "    # y - значение вариации;\n",
    "    # y_mean - среднее значение;\n",
    "    # n - количество месяцев.\n",
    "  \"\"\"\n",
    "  covXY = 0\n",
    "\n",
    "  for i in range(n):\n",
    "    covXY += sum((x - x_mean) * (y - y_mean))\n",
    "\n",
    "  covXY = covXY * (1/n)\n",
    "\n",
    "  return covXY"
   ]
  },
  {
   "cell_type": "markdown",
   "metadata": {},
   "source": [
    "Программа которая может автоматически посчитать все, по всем формулам.  <br/>\n",
    "Нужно выбрать формулу из списка ниже, и скопировать ее в панельку ввода формулы. <br/>\n",
    "После выбора формулы, в консоли появится документация к функции и примеры ее использования. <br/>\n",
    "Вводим данные по документации и получаем ответ на задачу. <br/>\n",
    "В случае ошибки получаем ответ что-то пошло не так и просьбу повторить ввод. <br/>"
   ]
  },
  {
   "cell_type": "code",
   "execution_count": 182,
   "metadata": {},
   "outputs": [],
   "source": [
    "all_formulas = [\n",
    "    average_level_zapasa,\n",
    "    calculate_average_stock_for_long_period,\n",
    "    calculate_stock_capacity,\n",
    "    calculate_average_indicators,\n",
    "    varition,\n",
    "    standart_deegrees,\n",
    "    average_arifmetic_line,\n",
    "    coeffieint_correlation,\n",
    "    covarition,\n",
    "    calculate_stock_supply,\n",
    "    calculate_stock_balance,\n",
    "    calculate_stock_transition,\n",
    "    calculate_stock_turnover,\n",
    "    calculate_turnover_time,\n",
    "]"
   ]
  },
  {
   "cell_type": "code",
   "execution_count": 183,
   "metadata": {},
   "outputs": [
    {
     "name": "stdout",
     "output_type": "stream",
     "text": [
      "Варианты формул:  [<function average_level_zapasa at 0x000002B8F8660160>, <function calculate_average_stock_for_long_period at 0x000002B8F78ACC10>, <function calculate_stock_capacity at 0x000002B8F821CE50>, <function calculate_average_indicators at 0x000002B8F8663010>, <function varition at 0x000002B8F86624D0>, <function standart_deegrees at 0x000002B8F8663640>, <function average_arifmetic_line at 0x000002B8F8663D90>, <function coeffieint_correlation at 0x000002B8F8660430>, <function covarition at 0x000002B8F86631C0>, <function calculate_stock_supply at 0x000002B8F87176D0>, <function calculate_stock_balance at 0x000002B8F8661E10>, <function calculate_stock_transition at 0x000002B8F8708D30>, <function calculate_stock_turnover at 0x000002B8F8661120>, <function calculate_turnover_time at 0x000002B8F7A32290>]\n",
      "Программа завершена\n"
     ]
    }
   ],
   "source": [
    "print(\"Варианты формул: \", all_formulas)\n",
    "try:\n",
    "    formula = input('Какая формула вам нужна: ')\n",
    "    for i in all_formulas:\n",
    "        if formula == i.__name__:\n",
    "            print(i.__name__)\n",
    "            print(i.__doc__)\n",
    "            print(\"Число аргументов - \", i.__code__.co_argcount)\n",
    "            print(i(*map(float, input('Введите значения через пробел: ').split())))\n",
    "            break\n",
    "except TypeError:\n",
    "    print('Ошибка в формуле')\n",
    "except ValueError:\n",
    "    print('Неверные данные')\n",
    "except ZeroDivisionError:\n",
    "    print('Деление на ноль')\n",
    "except:\n",
    "    print('Неизвестная ошибка')\n",
    "finally:\n",
    "    print('Программа завершена')\n",
    "\n"
   ]
  },
  {
   "cell_type": "markdown",
   "metadata": {},
   "source": [
    "Данные которые мы получили на уроке"
   ]
  },
  {
   "cell_type": "code",
   "execution_count": 184,
   "metadata": {},
   "outputs": [],
   "source": [
    "# число дней в году\n",
    "T = 365\n",
    "# число считаемых дней\n",
    "Td = 60\n",
    "# остаток на складе на первый день расчетного периода\n",
    "ostatok_at_start = 20\n",
    "# остаток на складе на последний день расчетного периода\n",
    "ostatok_at_end = 10\n",
    "# стандартное отклонение\n",
    "sigma = 580\n",
    "# среднее дневное значение\n",
    "Di = 125\n",
    "# средний объем заказа\n",
    "value_order = 12\n",
    "\n",
    "# Итоговый результат\n",
    "Die = 0.94\n",
    "# z-score\n",
    "z = 1.15\n",
    "\n"
   ]
  },
  {
   "cell_type": "markdown",
   "metadata": {},
   "source": [
    "Цель - просчитать 4 ситуации, и получить все возможные результаты"
   ]
  },
  {
   "cell_type": "code",
   "execution_count": 185,
   "metadata": {},
   "outputs": [],
   "source": [
    "# Ситуация 1\n",
    "\n",
    "# Пусть потребность в запасе может быть описана нормальным законом распределения. \n",
    "# Известно математическое ожидание (средняя потребность), равное\n",
    "# ПД+120 единиц, стандартное отклонение потребности в запасе составляет\n",
    "# 580 единиц в день. Следует обеспечить 94% заявок клиентов на отгрузку товара, \n",
    "# что соответствует числу стандартных отклонений ᶎ=1,56"
   ]
  },
  {
   "cell_type": "markdown",
   "metadata": {},
   "source": [
    "Просчитаем все, по данным что у нас есть"
   ]
  },
  {
   "cell_type": "code",
   "execution_count": 186,
   "metadata": {},
   "outputs": [
    {
     "name": "stdout",
     "output_type": "stream",
     "text": [
      "Средний уровень запаса:  15.0\n"
     ]
    }
   ],
   "source": [
    "# средний уровень запаса\n",
    "zi = average_level_zapasa(ostatok_at_start, ostatok_at_end)\n",
    "print('Средний уровень запаса: ', zi)"
   ]
  },
  {
   "cell_type": "code",
   "execution_count": 187,
   "metadata": {},
   "outputs": [
    {
     "name": "stdout",
     "output_type": "stream",
     "text": [
      "Запасаемость:  0.16\n"
     ]
    }
   ],
   "source": [
    "# запасаемкость\n",
    "Zemi = calculate_stock_capacity(ostatok_at_start, Di)\n",
    "print('Запасаемость: ', Zemi)"
   ]
  },
  {
   "cell_type": "code",
   "execution_count": 188,
   "metadata": {},
   "outputs": [
    {
     "name": "stdout",
     "output_type": "stream",
     "text": [
      "Обеспеченность потребности запасом:  0.8333333333333334\n"
     ]
    }
   ],
   "source": [
    "# обеспеченность потребности запасом;\n",
    "Odi = calculate_stock_supply(ostatok_at_end, value_order)\n",
    "print('Обеспеченность потребности запасом: ', Odi)"
   ]
  },
  {
   "cell_type": "code",
   "execution_count": 189,
   "metadata": {},
   "outputs": [
    {
     "name": "stdout",
     "output_type": "stream",
     "text": [
      "Доля переходящего запаса:  144.06\n"
     ]
    }
   ],
   "source": [
    "# доля переходящего запаса;\n",
    "\n",
    "Zei = calculate_stock_balance(ostatok_at_start, Di, Die)\n",
    "print('Доля переходящего запаса: ', Zei)"
   ]
  },
  {
   "cell_type": "code",
   "execution_count": 190,
   "metadata": {},
   "outputs": [
    {
     "name": "stdout",
     "output_type": "stream",
     "text": [
      "Скорость обращения запаса:  8.333333333333334\n"
     ]
    }
   ],
   "source": [
    "# скорость обращения запаса; \n",
    "Vi = calculate_stock_turnover(Di, zi)\n",
    "print('Скорость обращения запаса: ', Vi)"
   ]
  },
  {
   "cell_type": "code",
   "execution_count": 191,
   "metadata": {},
   "outputs": [
    {
     "name": "stdout",
     "output_type": "stream",
     "text": [
      "Время оборота запаса:  1.25\n"
     ]
    }
   ],
   "source": [
    "# время оборота запаса.\n",
    "Ti = calculate_turnover_time(zi, value_order)\n",
    "print('Время оборота запаса: ', Ti)"
   ]
  },
  {
   "cell_type": "markdown",
   "metadata": {},
   "source": [
    "<i>Время для математики</i>\n",
    "\n",
    "У нас есть z - index, зачем нам его дали? <br/>\n",
    "Потому что он как раз таки и зависит от числа заявок клиентов <br/>\n",
    "Просто так его посчитать нельзя, там по-любому нужен n <br/>\n",
    "Ищем формулу со средне-квадратическим отклонением, потому что у нас оно есть <br/>\n",
    "\n",
    "# z = (x – μ) / (σ / √n)"
   ]
  },
  {
   "cell_type": "code",
   "execution_count": 192,
   "metadata": {},
   "outputs": [
    {
     "name": "stdout",
     "output_type": "stream",
     "text": [
      "Максимальное число заявок:  7695.432576\n"
     ]
    }
   ],
   "source": [
    "# берем z index\n",
    "\n",
    "z = 1.56\n",
    "# z = (125-120)/(sigma / n ** 0.5)\n",
    "# z = 5 / (sigma / n ** 0.5)\n",
    "n = ((z * sigma) / 10)** 2\n",
    "\n",
    "# Задача выдержать 94 процента, поэтому 6 процентов необходимо вычесть, просто как коэффициент ошибки\n",
    "# обеспечить 94 процентов заявок клиентов на отгрузку товара\n",
    "n = n * 0.94\n",
    "print('Максимальное число заявок: ', n)"
   ]
  },
  {
   "cell_type": "code",
   "execution_count": 193,
   "metadata": {},
   "outputs": [
    {
     "name": "stdout",
     "output_type": "stream",
     "text": [
      "Средние показатели пополнения и отгрузок запаса:  0.018721247563352826\n"
     ]
    }
   ],
   "source": [
    "# Средние показатели пополнения и отгрузок запаса\n",
    "P = calculate_average_indicators(int(n), Zei)\n",
    "print('Средние показатели пополнения и отгрузок запаса: ', P)"
   ]
  },
  {
   "cell_type": "code",
   "execution_count": 194,
   "metadata": {},
   "outputs": [],
   "source": [
    "# Ситуация 2\n",
    "\n",
    "# Пусть потребность в запасе может быть описана нормальным законом распределения. \n",
    "# Время выполнения заказа является постоянным. Известно математическое ожидание (средняя потребность),\n",
    "#  равное ПД+120 единиц, стандартное\n",
    "# отклонение потребности в запасе составляет 580 единиц в день. \n",
    "# Следует обеспечить 96% заявок клиентов на отгрузку товара, что соответствует числу \n",
    "# стандартных отклонений ᶎ=1,75."
   ]
  },
  {
   "cell_type": "markdown",
   "metadata": {},
   "source": [
    "нормальное распределение и z = 1.75\n",
    "\n",
    "нам нужно обеспечить 96% заявок клиентов на отгрузку товара\n",
    "\n",
    "раз распределение нормальное, поэтому берем стандартную формулу\n",
    "\n",
    "# z = (x – μ) / (σ / √n)"
   ]
  },
  {
   "cell_type": "code",
   "execution_count": 195,
   "metadata": {},
   "outputs": [
    {
     "name": "stdout",
     "output_type": "stream",
     "text": [
      "Максимальное число заявок:  9890.16\n"
     ]
    }
   ],
   "source": [
    "\n",
    "# Стандартную ошибку среднего z-score\n",
    "# z = (x – μ) / (σ / √n)\n",
    "\n",
    "# Переводим в питоновский код\n",
    "\n",
    "# z = (Di - Di_time) / (sigma / count ** 0.5)\n",
    "# 1.75 = (125-120)/(580 / n ** 0.5)\n",
    "# 1.75 = 5 / (580 / n ** 0.5)\n",
    "\n",
    "# обеспечить 96 процентов заявок клиентов на отгрузку товара\n",
    "n = ((1.75 * 580) / 10)** 2\n",
    "n = n*0.96\n",
    "print('Максимальное число заявок: ', n)"
   ]
  },
  {
   "cell_type": "code",
   "execution_count": 196,
   "metadata": {},
   "outputs": [],
   "source": [
    "# Ситуация 3\n",
    "# Пусть время выполнения заказа меняется в соответствии с нормальным законом распределения.\n",
    "#  Математическое ожидание времени выполнения заказа\n",
    "# равно tп, стандартное отклонение времени выполнения заказа равно 2 дня. \n",
    "# Потребность в запасе – постоянная, равная ожидаемому дневному потреблению\n",
    "# (ПД). Следует обеспечить 97% заявок клиентов на отгрузку товара, что соответствует \n",
    "# числу стандартных отклонений ᶎ=1,88. "
   ]
  },
  {
   "cell_type": "markdown",
   "metadata": {},
   "source": [
    "Нам нужно найти x, т.е. среднее значение, которое будет соответствовать z = 1.75\n",
    "У нас есть математическое ожидание, но его как бы и нет, его мы и найдем. <br/>\n",
    "\n",
    "Еще раз мы получили время выполнения заявки, значит она может быть как выполнена, так и не выполнена <br/>\n",
    "Значит мы можем посчитать вероятность, что заявка выполнена <br/>\n",
    "А если можем посчитать вероятность, то и можем подогнать под него математическое ожидание <br/>\n",
    "\n",
    "\n",
    "\n"
   ]
  },
  {
   "cell_type": "markdown",
   "metadata": {},
   "source": [
    "Есть формула z-score для нормального распределения через время выполнения заявки\n",
    "# z = (x - X) / S"
   ]
  },
  {
   "cell_type": "code",
   "execution_count": 197,
   "metadata": {},
   "outputs": [
    {
     "name": "stdout",
     "output_type": "stream",
     "text": [
      "Среднее значение:  0.31000000000000005\n"
     ]
    }
   ],
   "source": [
    "# для оценки мат ожидания нужно какое-нибудь отклонение\n",
    "# но у нас есть z-score\n",
    "# значит мы можем посчитать стандартизированную оценку величины х\n",
    "\n",
    "# X - среднее значение\n",
    "# S - стандартное отклонение\n",
    "# z = (x - X) / S\n",
    "\n",
    "# Выражаем x\n",
    "# x = (X/S - z)/S\n",
    "\n",
    "X = 5\n",
    "S = 2\n",
    "z = 1.88\n",
    "\n",
    "x = (5/2 - 1.88)/2\n",
    "print('Среднее значение: ', x)"
   ]
  },
  {
   "cell_type": "markdown",
   "metadata": {},
   "source": [
    "Считаем вероятность того, что запасы кончатся раньше, чем время выполнения заказа <br/>\n",
    "формулы напрямую через z-score нет <br/>\n",
    "Но есть формула для нормального распределения, которая позволяет найти вероятность, что случайная величина принимает значение меньше заданного <br/>\n",
    "\n",
    "# p = 1 / (S * √2 * π) * e^(-1/2 * ((x - X) / S)^2)"
   ]
  },
  {
   "cell_type": "code",
   "execution_count": 198,
   "metadata": {},
   "outputs": [
    {
     "name": "stdout",
     "output_type": "stream",
     "text": [
      "Вероятность:  0.013000202608940489\n"
     ]
    }
   ],
   "source": [
    "\n",
    "p = 1 / (S * math.sqrt(2 * 3.14)) * 2.7 ** (-1/2 * ((x - X) / S) ** 2)\n",
    "print('Вероятность: ', p)\n"
   ]
  },
  {
   "cell_type": "markdown",
   "metadata": {},
   "source": [
    "получается мат ожидание времени выполнения заказа в 5 день для этой системы\n",
    "дает нам 99% процентов\n",
    "\n",
    "это перебор, но за то схема работает, просто выведем формулу и подставим p 100% - 97% = 3% нам надо\n",
    "получить вероятность ошибки в 3 процента"
   ]
  },
  {
   "cell_type": "markdown",
   "metadata": {},
   "source": [
    "\n",
    "Вот этот сайт обьяснил как это работает - https://allcalc.ru/node/853 <br/>\n",
    "Выражаем из этой формулы мат ожидание, получаем формулу для мат ожидания <br/>\n",
    "\n",
    "# X = -p + 1 / ((S * √(2 * π)) * e^(-1/2 * (x / S)^2))"
   ]
  },
  {
   "cell_type": "code",
   "execution_count": 199,
   "metadata": {},
   "outputs": [
    {
     "name": "stdout",
     "output_type": "stream",
     "text": [
      "Расчетное математическое ожидание времени выполнения заказа:  0.16833497412064366\n"
     ]
    }
   ],
   "source": [
    "p = 0.03\n",
    "\n",
    "X = -p + 1 / ((S * (2 * 3.14) ** 0.5) * (2.7 ** (-1/2*(x/S))**2))\n",
    "\n",
    "print('Расчетное математическое ожидание времени выполнения заказа: ', X)"
   ]
  },
  {
   "cell_type": "code",
   "execution_count": 200,
   "metadata": {},
   "outputs": [],
   "source": [
    "# Ситуация 4\n",
    "# Пусть и потребность в запасе, и время выполнения заказа описываются\n",
    "# нормальным законом распределения. Математическое ожидание (средняя потребность) равно \n",
    "# ПД+120 единиц, стандартное отклонение потребности в запасе\n",
    "# составляет 580 единиц в день. Математическое ожидание времени выполнения\n",
    "# заказа равно tп, стандартное отклонение времени выполнения заказа равно\n",
    "# 2 дня. Следует обеспечить 98% заявок клиентов на отгрузку товара, что соответствует числу \n",
    "# стандартных отклонений ᶎ=2,05. \n"
   ]
  },
  {
   "cell_type": "markdown",
   "metadata": {},
   "source": [
    "Тяжелая артеллерия <br/>\n",
    "Нам дали слишком много данных  <br/>\n",
    "Что делать? <br/>\n",
    "Пока просто запишем все  <br/>"
   ]
  },
  {
   "cell_type": "code",
   "execution_count": 201,
   "metadata": {},
   "outputs": [
    {
     "data": {
      "text/plain": [
       "28.975"
      ]
     },
     "execution_count": 201,
     "metadata": {},
     "output_type": "execute_result"
    }
   ],
   "source": [
    "# число дней в году\n",
    "T = 365\n",
    "# число считаемых дней\n",
    "Td = 60\n",
    "# стандартное отклонение\n",
    "sigma = 580\n",
    "# среднее дневное значение\n",
    "X = 120\n",
    "S = 2\n",
    "\n",
    "# Итоговый результат\n",
    "Die = 0.98\n",
    "# z-score\n",
    "z = 2.05\n",
    "\n",
    "x = (X/S - z)/S\n",
    "x"
   ]
  },
  {
   "cell_type": "markdown",
   "metadata": {},
   "source": [
    "Посчитаем вероятность того что запасы кончатся раньше времени выполнения заказа <br/>"
   ]
  },
  {
   "cell_type": "code",
   "execution_count": 202,
   "metadata": {},
   "outputs": [
    {
     "name": "stdout",
     "output_type": "stream",
     "text": [
      "Вероятность:  0.0\n"
     ]
    }
   ],
   "source": [
    "p = 1 / (S * math.sqrt(2 * 3.14)) * 2.7 ** (-1/2 * ((x - X) / S) ** 2)\n",
    "print('Вероятность: ', p)"
   ]
  },
  {
   "cell_type": "markdown",
   "metadata": {},
   "source": [
    "0 <br/>\n",
    "И это не ошибка <br/>\n",
    "Нам нужно проверить этот ноль, какими-нибудь метриками <br/>\n",
    "Мы знаем формула мат ожидания и начнем с нее <br/>\n",
    "# X = -p + 1 / ((S * √(2 * π)) * e^(-1/2 * (x / S)^2))\n"
   ]
  },
  {
   "cell_type": "code",
   "execution_count": 203,
   "metadata": {},
   "outputs": [
    {
     "data": {
      "text/plain": [
       "4.629219990058084e-24"
      ]
     },
     "execution_count": 203,
     "metadata": {},
     "output_type": "execute_result"
    }
   ],
   "source": [
    "X = -p + 1 / ((S * (2 * 3.14) ** 0.5) * (2.7 ** (-1/2*(x/S))**2))\n",
    "X"
   ]
  },
  {
   "cell_type": "markdown",
   "metadata": {},
   "source": [
    "невозможно ничего посчитать по формулам, можно только дать оценки"
   ]
  },
  {
   "cell_type": "markdown",
   "metadata": {},
   "source": [
    "Основной вопрос, на который должны отвечать системы учета событий, — это оценка интенсивности потока. Интенсивность может быть строго формализована для равномерного потока событий. Равномерный поток $\\{t_k\\}$ определяется следующим образом:\n",
    "$t_k = \\varphi+pk,\\quad k\\in\\mathbb{Z},$\n",
    "\n",
    "# t = (sigma + p*k) * (sigma * p ** e) "
   ]
  },
  {
   "cell_type": "code",
   "execution_count": 204,
   "metadata": {},
   "outputs": [
    {
     "data": {
      "text/plain": [
       "8.72036348036803"
      ]
     },
     "execution_count": 204,
     "metadata": {},
     "output_type": "execute_result"
    }
   ],
   "source": [
    "# t = (sigma + p*k) * (sigma * p ** e) \n",
    "# t = оценка интенсивность\n",
    "# sigma = стандартрное отклонение\n",
    "# k = число евентов\n",
    "# p = вероятность евента\n",
    "\n",
    "t = (580 + 0.02*60)*(580 * 0.02 ** 2.7)\n",
    "t"
   ]
  },
  {
   "cell_type": "markdown",
   "metadata": {},
   "source": [
    "Но сама по себе эта цифра ничего не значит\n",
    "Ее нужно проверить на фазе\n",
    "\n",
    "# r = 1 / p"
   ]
  },
  {
   "cell_type": "code",
   "execution_count": 205,
   "metadata": {},
   "outputs": [
    {
     "data": {
      "text/plain": [
       "50.0"
      ]
     },
     "execution_count": 205,
     "metadata": {},
     "output_type": "execute_result"
    }
   ],
   "source": [
    "# r = фаза интенсивности\n",
    "# r = 1/p\n",
    "r = 1/0.02\n",
    "r"
   ]
  },
  {
   "cell_type": "markdown",
   "metadata": {},
   "source": [
    "Условия\n",
    "\n",
    "# r <= t ** 2\n",
    "# r >= 0\n",
    "# t >= -1"
   ]
  },
  {
   "cell_type": "code",
   "execution_count": 206,
   "metadata": {},
   "outputs": [
    {
     "name": "stdout",
     "output_type": "stream",
     "text": [
      "r <= t ** 2\n",
      "условие выполняется\n"
     ]
    }
   ],
   "source": [
    "\n",
    "if r <= t ** 2:\n",
    "    print('r <= t ** 2')\n",
    "    print(\"условие выполняется\")\n",
    "else:\n",
    "    print('r >= t ** 2')\n",
    "    print(\"условие не выполняется\")\n",
    "\n"
   ]
  },
  {
   "cell_type": "markdown",
   "metadata": {},
   "source": [
    "Что ж это истинный ноль\n",
    "Значит так и было задуманно\n",
    "\n",
    "# Всем спасибо за внимание"
   ]
  }
 ],
 "metadata": {
  "kernelspec": {
   "display_name": "Python 3.10.7 ('Coroleva_venv': venv)",
   "language": "python",
   "name": "python3"
  },
  "language_info": {
   "codemirror_mode": {
    "name": "ipython",
    "version": 3
   },
   "file_extension": ".py",
   "mimetype": "text/x-python",
   "name": "python",
   "nbconvert_exporter": "python",
   "pygments_lexer": "ipython3",
   "version": "3.10.7"
  },
  "orig_nbformat": 4,
  "vscode": {
   "interpreter": {
    "hash": "9f5f2e987302487b85fd980ae43ee24979863af66ad02d7ed86da855a3413493"
   }
  }
 },
 "nbformat": 4,
 "nbformat_minor": 2
}
